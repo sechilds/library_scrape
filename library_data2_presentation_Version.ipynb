{
 "cells": [
  {
   "cell_type": "markdown",
   "metadata": {
    "slideshow": {
     "slide_type": "slide"
    }
   },
   "source": [
    "# Never Pay Library Late Fees Again\n",
    "\n",
    "## Stephen Childs\n",
    "## PyCon Canada 2018\n",
    "\n",
    "## 2018-11-11"
   ]
  },
  {
   "cell_type": "markdown",
   "metadata": {
    "slideshow": {
     "slide_type": "subslide"
    }
   },
   "source": [
    "* Libraries are great.\n",
    "* Toronto has a great library system:  [https://www.torontopubliclibrary.ca/](https://www.torontopubliclibrary.ca/)\n",
    "\n",
    "![Toronto Reference Library](reference_library.jpg)"
   ]
  },
  {
   "cell_type": "markdown",
   "metadata": {
    "slideshow": {
     "slide_type": "subslide"
    }
   },
   "source": [
    "* I checkout a lot of books.\n",
    "* Sometimes I get busy and forget that I have them out.\n",
    "* That costs me money.\n",
    "* The solution: web scraping."
   ]
  },
  {
   "cell_type": "code",
   "execution_count": 1,
   "metadata": {
    "slideshow": {
     "slide_type": "slide"
    }
   },
   "outputs": [],
   "source": [
    "from selenium import webdriver\n",
    "from selenium.common.exceptions import NoSuchElementException\n",
    "from delorean import Delorean, parse\n",
    "from os import environ\n",
    "from bs4 import BeautifulSoup\n",
    "from time import sleep\n",
    "from datetime import timedelta"
   ]
  },
  {
   "cell_type": "code",
   "execution_count": 2,
   "metadata": {
    "slideshow": {
     "slide_type": "subslide"
    }
   },
   "outputs": [],
   "source": [
    "library_card = environ['LIBRARY_CARD']\n",
    "library_password = environ['LIBRARY_PIN']"
   ]
  },
  {
   "cell_type": "code",
   "execution_count": 3,
   "metadata": {
    "slideshow": {
     "slide_type": "fragment"
    }
   },
   "outputs": [],
   "source": [
    "tz = 'US/Eastern'"
   ]
  },
  {
   "cell_type": "code",
   "execution_count": 4,
   "metadata": {
    "slideshow": {
     "slide_type": "subslide"
    }
   },
   "outputs": [],
   "source": [
    "driver = webdriver.Firefox(service_log_path = '/Users/sechilds/geckodriver.log')"
   ]
  },
  {
   "cell_type": "code",
   "execution_count": 5,
   "metadata": {
    "slideshow": {
     "slide_type": "slide"
    }
   },
   "outputs": [],
   "source": [
    "def library_login(driver, library_card, library_pin):\n",
    "    \"\"\"\n",
    "    Login to the Toronto Public Library website\n",
    "    with the supplied credentials.\n",
    "    \"\"\"\n",
    "    driver.get('https://torontopubliclibrary.ca/signin')\n",
    "    card_no = driver.find_element_by_id('userId')\n",
    "    card_no.send_keys(library_card)\n",
    "    password_box = driver.find_element_by_id('password')\n",
    "    password_box.send_keys(library_pin)\n",
    "    submit_button = driver.find_element_by_class_name('signin')\n",
    "    submit_button.click()"
   ]
  },
  {
   "cell_type": "code",
   "execution_count": 6,
   "metadata": {
    "slideshow": {
     "slide_type": "fragment"
    }
   },
   "outputs": [],
   "source": [
    "library_login(driver, library_card, library_password)"
   ]
  },
  {
   "cell_type": "code",
   "execution_count": 7,
   "metadata": {
    "slideshow": {
     "slide_type": "subslide"
    }
   },
   "outputs": [],
   "source": [
    "def grab_checkout_table(driver):\n",
    "    \"\"\"\n",
    "    From a logged in account, grab the\n",
    "    table of checkouts.\n",
    "    \"\"\"\n",
    "    driver.get('https://account.torontopubliclibrary.ca/checkouts')\n",
    "    sleep(8)\n",
    "    try:\n",
    "        item_table = driver.find_element_by_class_name('item-list')\n",
    "    except NoSuchElementException:\n",
    "        pass\n",
    "    if item_table:\n",
    "        html_table = item_table.get_attribute('outerHTML')\n",
    "        soup = BeautifulSoup(html_table, 'html.parser')\n",
    "        rows = soup.findAll(\"tr\")\n",
    "        return rows"
   ]
  },
  {
   "cell_type": "code",
   "execution_count": 8,
   "metadata": {
    "slideshow": {
     "slide_type": "fragment"
    }
   },
   "outputs": [],
   "source": [
    "rows = grab_checkout_table(driver)"
   ]
  },
  {
   "cell_type": "code",
   "execution_count": 9,
   "metadata": {
    "slideshow": {
     "slide_type": "skip"
    }
   },
   "outputs": [
    {
     "data": {
      "text/html": [
       "<style>\n",
       "code[class*=\"language-\"],\n",
       "pre[class*=\"language-\"] {\n",
       "\tcolor: black;\n",
       "\tbackground: none;\n",
       "\tfont-family: Consolas, Monaco, 'Andale Mono', 'Ubuntu Mono', monospace;\n",
       "\ttext-align: left;\n",
       "\twhite-space: pre;\n",
       "\tword-spacing: normal;\n",
       "\tword-break: normal;\n",
       "\tword-wrap: break-word;\n",
       "\tline-height: 1.5;\n",
       "\n",
       "\t-moz-tab-size: 4;\n",
       "\t-o-tab-size: 4;\n",
       "\ttab-size: 4;\n",
       "\n",
       "\t-webkit-hyphens: none;\n",
       "\t-moz-hyphens: none;\n",
       "\t-ms-hyphens: none;\n",
       "\thyphens: none;\n",
       "}\n",
       "\n",
       "/* Code blocks */\n",
       "pre[class*=\"language-\"] {\n",
       "\tposition: relative;\n",
       "\tmargin: .5em 0;\n",
       "\toverflow: visible;\n",
       "\tpadding: 0;\n",
       "}\n",
       "pre[class*=\"language-\"]>code {\n",
       "\tposition: relative;\n",
       "\tborder-left: 10px solid #358ccb;\n",
       "\tbox-shadow: -1px 0px 0px 0px #358ccb, 0px 0px 0px 1px #dfdfdf;\n",
       "\tbackground-color: #fdfdfd;\n",
       "\tbackground-image: linear-gradient(transparent 50%, rgba(69, 142, 209, 0.04) 50%);\n",
       "\tbackground-size: 3em 3em;\n",
       "\tbackground-origin: content-box;\n",
       "\tbackground-attachment: local;\n",
       "}\n",
       "\n",
       "code[class*=\"language\"] {\n",
       "\tmax-height: inherit;\n",
       "\theight: inherit;\n",
       "\tpadding: 0 1em;\n",
       "\tdisplay: block;\n",
       "\toverflow: auto;\n",
       "}\n",
       "\n",
       "/* Margin bottom to accommodate shadow */\n",
       ":not(pre) > code[class*=\"language-\"],\n",
       "pre[class*=\"language-\"] {\n",
       "\tbackground-color: #fdfdfd;\n",
       "\t-webkit-box-sizing: border-box;\n",
       "\t-moz-box-sizing: border-box;\n",
       "\tbox-sizing: border-box;\n",
       "\tmargin-bottom: 1em;\n",
       "}\n",
       "\n",
       "/* Inline code */\n",
       ":not(pre) > code[class*=\"language-\"] {\n",
       "\tposition: relative;\n",
       "\tpadding: .2em;\n",
       "\tborder-radius: 0.3em;\n",
       "\tcolor: #c92c2c;\n",
       "\tborder: 1px solid rgba(0, 0, 0, 0.1);\n",
       "\tdisplay: inline;\n",
       "\twhite-space: normal;\n",
       "}\n",
       "\n",
       "pre[class*=\"language-\"]:before,\n",
       "pre[class*=\"language-\"]:after {\n",
       "\tcontent: '';\n",
       "\tz-index: -2;\n",
       "\tdisplay: block;\n",
       "\tposition: absolute;\n",
       "\tbottom: 0.75em;\n",
       "\tleft: 0.18em;\n",
       "\twidth: 40%;\n",
       "\theight: 20%;\n",
       "\tmax-height: 13em;\n",
       "\tbox-shadow: 0px 13px 8px #979797;\n",
       "\t-webkit-transform: rotate(-2deg);\n",
       "\t-moz-transform: rotate(-2deg);\n",
       "\t-ms-transform: rotate(-2deg);\n",
       "\t-o-transform: rotate(-2deg);\n",
       "\ttransform: rotate(-2deg);\n",
       "}\n",
       "\n",
       ":not(pre) > code[class*=\"language-\"]:after,\n",
       "pre[class*=\"language-\"]:after {\n",
       "\tright: 0.75em;\n",
       "\tleft: auto;\n",
       "\t-webkit-transform: rotate(2deg);\n",
       "\t-moz-transform: rotate(2deg);\n",
       "\t-ms-transform: rotate(2deg);\n",
       "\t-o-transform: rotate(2deg);\n",
       "\ttransform: rotate(2deg);\n",
       "}\n",
       "\n",
       ".token.comment,\n",
       ".token.block-comment,\n",
       ".token.prolog,\n",
       ".token.doctype,\n",
       ".token.cdata {\n",
       "\tcolor: #7D8B99;\n",
       "}\n",
       "\n",
       ".token.punctuation {\n",
       "\tcolor: #5F6364;\n",
       "}\n",
       "\n",
       ".token.property,\n",
       ".token.tag,\n",
       ".token.boolean,\n",
       ".token.number,\n",
       ".token.function-name,\n",
       ".token.constant,\n",
       ".token.symbol,\n",
       ".token.deleted {\n",
       "\tcolor: #c92c2c;\n",
       "}\n",
       "\n",
       ".token.selector,\n",
       ".token.attr-name,\n",
       ".token.string,\n",
       ".token.char,\n",
       ".token.function,\n",
       ".token.builtin,\n",
       ".token.inserted {\n",
       "\tcolor: #2f9c0a;\n",
       "}\n",
       "\n",
       ".token.operator,\n",
       ".token.entity,\n",
       ".token.url,\n",
       ".token.variable {\n",
       "\tcolor: #a67f59;\n",
       "\tbackground: rgba(255, 255, 255, 0.5);\n",
       "}\n",
       "\n",
       ".token.atrule,\n",
       ".token.attr-value,\n",
       ".token.keyword,\n",
       ".token.class-name {\n",
       "\tcolor: #1990b8;\n",
       "}\n",
       "\n",
       ".token.regex,\n",
       ".token.important {\n",
       "\tcolor: #e90;\n",
       "}\n",
       "\n",
       ".language-css .token.string,\n",
       ".style .token.string {\n",
       "\tcolor: #a67f59;\n",
       "\tbackground: rgba(255, 255, 255, 0.5);\n",
       "}\n",
       "\n",
       ".token.important {\n",
       "\tfont-weight: normal;\n",
       "}\n",
       "\n",
       ".token.bold {\n",
       "\tfont-weight: bold;\n",
       "}\n",
       ".token.italic {\n",
       "\tfont-style: italic;\n",
       "}\n",
       "\n",
       ".token.entity {\n",
       "\tcursor: help;\n",
       "}\n",
       "\n",
       ".namespace {\n",
       "\topacity: .7;\n",
       "}\n",
       "\n",
       "@media screen and (max-width: 767px) {\n",
       "\tpre[class*=\"language-\"]:before,\n",
       "\tpre[class*=\"language-\"]:after {\n",
       "\t\tbottom: 14px;\n",
       "\t\tbox-shadow: none;\n",
       "\t}\n",
       "\n",
       "}\n",
       "\n",
       "/* Plugin styles */\n",
       ".token.tab:not(:empty):before,\n",
       ".token.cr:before,\n",
       ".token.lf:before {\n",
       "\tcolor: #e0d7d1;\n",
       "}\n",
       "\n",
       "/* Plugin styles: Line Numbers */\n",
       "pre[class*=\"language-\"].line-numbers.line-numbers {\n",
       "\tpadding-left: 0;\n",
       "}\n",
       "\n",
       "pre[class*=\"language-\"].line-numbers.line-numbers code {\n",
       "\tpadding-left: 3.8em;\n",
       "}\n",
       "\n",
       "pre[class*=\"language-\"].line-numbers.line-numbers .line-numbers-rows {\n",
       "\tleft: 0;\n",
       "}\n",
       "\n",
       "/* Plugin styles: Line Highlight */\n",
       "pre[class*=\"language-\"][data-line] {\n",
       "\tpadding-top: 0;\n",
       "\tpadding-bottom: 0;\n",
       "\tpadding-left: 0;\n",
       "}\n",
       "pre[data-line] code {\n",
       "\tposition: relative;\n",
       "\tpadding-left: 4em;\n",
       "}\n",
       "pre .line-highlight {\n",
       "\tmargin-top: 0;\n",
       "}\n",
       "</style>\n"
      ],
      "text/plain": [
       "<IPython.core.display.HTML object>"
      ]
     },
     "metadata": {},
     "output_type": "display_data"
    }
   ],
   "source": [
    "%%html\n",
    "<style>\n",
    "code[class*=\"language-\"],\n",
    "pre[class*=\"language-\"] {\n",
    "\tcolor: black;\n",
    "\tbackground: none;\n",
    "\tfont-family: Consolas, Monaco, 'Andale Mono', 'Ubuntu Mono', monospace;\n",
    "\ttext-align: left;\n",
    "\twhite-space: pre;\n",
    "\tword-spacing: normal;\n",
    "\tword-break: normal;\n",
    "\tword-wrap: break-word;\n",
    "\tline-height: 1.5;\n",
    "\n",
    "\t-moz-tab-size: 4;\n",
    "\t-o-tab-size: 4;\n",
    "\ttab-size: 4;\n",
    "\n",
    "\t-webkit-hyphens: none;\n",
    "\t-moz-hyphens: none;\n",
    "\t-ms-hyphens: none;\n",
    "\thyphens: none;\n",
    "}\n",
    "\n",
    "/* Code blocks */\n",
    "pre[class*=\"language-\"] {\n",
    "\tposition: relative;\n",
    "\tmargin: .5em 0;\n",
    "\toverflow: visible;\n",
    "\tpadding: 0;\n",
    "}\n",
    "pre[class*=\"language-\"]>code {\n",
    "\tposition: relative;\n",
    "\tborder-left: 10px solid #358ccb;\n",
    "\tbox-shadow: -1px 0px 0px 0px #358ccb, 0px 0px 0px 1px #dfdfdf;\n",
    "\tbackground-color: #fdfdfd;\n",
    "\tbackground-image: linear-gradient(transparent 50%, rgba(69, 142, 209, 0.04) 50%);\n",
    "\tbackground-size: 3em 3em;\n",
    "\tbackground-origin: content-box;\n",
    "\tbackground-attachment: local;\n",
    "}\n",
    "\n",
    "code[class*=\"language\"] {\n",
    "\tmax-height: inherit;\n",
    "\theight: inherit;\n",
    "\tpadding: 0 1em;\n",
    "\tdisplay: block;\n",
    "\toverflow: auto;\n",
    "}\n",
    "\n",
    "/* Margin bottom to accommodate shadow */\n",
    ":not(pre) > code[class*=\"language-\"],\n",
    "pre[class*=\"language-\"] {\n",
    "\tbackground-color: #fdfdfd;\n",
    "\t-webkit-box-sizing: border-box;\n",
    "\t-moz-box-sizing: border-box;\n",
    "\tbox-sizing: border-box;\n",
    "\tmargin-bottom: 1em;\n",
    "}\n",
    "\n",
    "/* Inline code */\n",
    ":not(pre) > code[class*=\"language-\"] {\n",
    "\tposition: relative;\n",
    "\tpadding: .2em;\n",
    "\tborder-radius: 0.3em;\n",
    "\tcolor: #c92c2c;\n",
    "\tborder: 1px solid rgba(0, 0, 0, 0.1);\n",
    "\tdisplay: inline;\n",
    "\twhite-space: normal;\n",
    "}\n",
    "\n",
    "pre[class*=\"language-\"]:before,\n",
    "pre[class*=\"language-\"]:after {\n",
    "\tcontent: '';\n",
    "\tz-index: -2;\n",
    "\tdisplay: block;\n",
    "\tposition: absolute;\n",
    "\tbottom: 0.75em;\n",
    "\tleft: 0.18em;\n",
    "\twidth: 40%;\n",
    "\theight: 20%;\n",
    "\tmax-height: 13em;\n",
    "\tbox-shadow: 0px 13px 8px #979797;\n",
    "\t-webkit-transform: rotate(-2deg);\n",
    "\t-moz-transform: rotate(-2deg);\n",
    "\t-ms-transform: rotate(-2deg);\n",
    "\t-o-transform: rotate(-2deg);\n",
    "\ttransform: rotate(-2deg);\n",
    "}\n",
    "\n",
    ":not(pre) > code[class*=\"language-\"]:after,\n",
    "pre[class*=\"language-\"]:after {\n",
    "\tright: 0.75em;\n",
    "\tleft: auto;\n",
    "\t-webkit-transform: rotate(2deg);\n",
    "\t-moz-transform: rotate(2deg);\n",
    "\t-ms-transform: rotate(2deg);\n",
    "\t-o-transform: rotate(2deg);\n",
    "\ttransform: rotate(2deg);\n",
    "}\n",
    "\n",
    ".token.comment,\n",
    ".token.block-comment,\n",
    ".token.prolog,\n",
    ".token.doctype,\n",
    ".token.cdata {\n",
    "\tcolor: #7D8B99;\n",
    "}\n",
    "\n",
    ".token.punctuation {\n",
    "\tcolor: #5F6364;\n",
    "}\n",
    "\n",
    ".token.property,\n",
    ".token.tag,\n",
    ".token.boolean,\n",
    ".token.number,\n",
    ".token.function-name,\n",
    ".token.constant,\n",
    ".token.symbol,\n",
    ".token.deleted {\n",
    "\tcolor: #c92c2c;\n",
    "}\n",
    "\n",
    ".token.selector,\n",
    ".token.attr-name,\n",
    ".token.string,\n",
    ".token.char,\n",
    ".token.function,\n",
    ".token.builtin,\n",
    ".token.inserted {\n",
    "\tcolor: #2f9c0a;\n",
    "}\n",
    "\n",
    ".token.operator,\n",
    ".token.entity,\n",
    ".token.url,\n",
    ".token.variable {\n",
    "\tcolor: #a67f59;\n",
    "\tbackground: rgba(255, 255, 255, 0.5);\n",
    "}\n",
    "\n",
    ".token.atrule,\n",
    ".token.attr-value,\n",
    ".token.keyword,\n",
    ".token.class-name {\n",
    "\tcolor: #1990b8;\n",
    "}\n",
    "\n",
    ".token.regex,\n",
    ".token.important {\n",
    "\tcolor: #e90;\n",
    "}\n",
    "\n",
    ".language-css .token.string,\n",
    ".style .token.string {\n",
    "\tcolor: #a67f59;\n",
    "\tbackground: rgba(255, 255, 255, 0.5);\n",
    "}\n",
    "\n",
    ".token.important {\n",
    "\tfont-weight: normal;\n",
    "}\n",
    "\n",
    ".token.bold {\n",
    "\tfont-weight: bold;\n",
    "}\n",
    ".token.italic {\n",
    "\tfont-style: italic;\n",
    "}\n",
    "\n",
    ".token.entity {\n",
    "\tcursor: help;\n",
    "}\n",
    "\n",
    ".namespace {\n",
    "\topacity: .7;\n",
    "}\n",
    "\n",
    "@media screen and (max-width: 767px) {\n",
    "\tpre[class*=\"language-\"]:before,\n",
    "\tpre[class*=\"language-\"]:after {\n",
    "\t\tbottom: 14px;\n",
    "\t\tbox-shadow: none;\n",
    "\t}\n",
    "\n",
    "}\n",
    "\n",
    "/* Plugin styles */\n",
    ".token.tab:not(:empty):before,\n",
    ".token.cr:before,\n",
    ".token.lf:before {\n",
    "\tcolor: #e0d7d1;\n",
    "}\n",
    "\n",
    "/* Plugin styles: Line Numbers */\n",
    "pre[class*=\"language-\"].line-numbers.line-numbers {\n",
    "\tpadding-left: 0;\n",
    "}\n",
    "\n",
    "pre[class*=\"language-\"].line-numbers.line-numbers code {\n",
    "\tpadding-left: 3.8em;\n",
    "}\n",
    "\n",
    "pre[class*=\"language-\"].line-numbers.line-numbers .line-numbers-rows {\n",
    "\tleft: 0;\n",
    "}\n",
    "\n",
    "/* Plugin styles: Line Highlight */\n",
    "pre[class*=\"language-\"][data-line] {\n",
    "\tpadding-top: 0;\n",
    "\tpadding-bottom: 0;\n",
    "\tpadding-left: 0;\n",
    "}\n",
    "pre[data-line] code {\n",
    "\tposition: relative;\n",
    "\tpadding-left: 4em;\n",
    "}\n",
    "pre .line-highlight {\n",
    "\tmargin-top: 0;\n",
    "}\n",
    "</style>"
   ]
  },
  {
   "cell_type": "markdown",
   "metadata": {
    "slideshow": {
     "slide_type": "subslide"
    }
   },
   "source": [
    "# Now We Check the Library Website HTML\n",
    "\n",
    "* The `item-table` is a HTML table with rows like..."
   ]
  },
  {
   "cell_type": "markdown",
   "metadata": {
    "slideshow": {
     "slide_type": "fragment"
    }
   },
   "source": [
    "<pre style=\"font-size: 7pt\" class=\"  language-markup\"><code class=\"  language-markup\">\n",
    "<span class=\"token tag\"><span class=\"token tag\"><span class=\"token punctuation\">&lt;</span>tr</span> <span class=\"token attr-name\">class</span><span class=\"token attr-value\"><span class=\"token punctuation\">=</span><span class=\"token punctuation\">\"</span>item-row<span class=\"token punctuation\">\"</span></span><span class=\"token punctuation\">&gt;</span></span>\n",
    "<div style='border: 2px solid green; padding: 0.5px; margin: 0.5px;'><span class=\"token tag\"><span class=\"token tag\"><span class=\"token punctuation\">&lt;</span>td</span> <span class=\"token attr-name\">class</span><span class=\"token attr-value\"><span class=\"token punctuation\">=</span><span class=\"token punctuation\">\"</span>item-select<span class=\"token punctuation\">\"</span></span><span class=\"token punctuation\">&gt;</span></span>\n",
    "<span class=\"token tag\"><span class=\"token tag\"><span class=\"token punctuation\">&lt;</span>span</span> <span class=\"token attr-name\">class</span><span class=\"token attr-value\"><span class=\"token punctuation\">=</span><span class=\"token punctuation\">\"</span>checkbox elements<span class=\"token punctuation\">\"</span></span><span class=\"token punctuation\">&gt;</span></span>\n",
    "<span class=\"token tag\"><span class=\"token tag\"><span class=\"token punctuation\">&lt;</span>input</span> <span class=\"token attr-name\">type</span><span class=\"token attr-value\"><span class=\"token punctuation\">=</span><span class=\"token punctuation\">\"</span>checkbox<span class=\"token punctuation\">\"</span></span> <span class=\"token attr-name\">id</span><span class=\"token attr-value\"><span class=\"token punctuation\">=</span><span class=\"token punctuation\">\"</span>item_37131148867252<span class=\"token punctuation\">\"</span></span> <span class=\"token attr-name\">class</span><span class=\"token attr-value\"><span class=\"token punctuation\">=</span><span class=\"token punctuation\">\"</span>sr-only<span class=\"token punctuation\">\"</span></span> <span class=\"token attr-name\">value</span><span class=\"token attr-value\"><span class=\"token punctuation\">=</span><span class=\"token punctuation\">\"</span>on<span class=\"token punctuation\">\"</span></span><span class=\"token punctuation\">&gt;</span></span>\n",
    "<span class=\"token tag\"><span class=\"token tag\"><span class=\"token punctuation\">&lt;</span>label</span> <span class=\"token attr-name\">class</span><span class=\"token attr-value\"><span class=\"token punctuation\">=</span><span class=\"token punctuation\">\"</span>checkbox-display<span class=\"token punctuation\">\"</span></span> <span class=\"token attr-name\">for</span><span class=\"token attr-value\"><span class=\"token punctuation\">=</span><span class=\"token punctuation\">\"</span>item_37131148867252<span class=\"token punctuation\">\"</span></span><span class=\"token punctuation\">&gt;</span></span><span class=\"token tag\"><span class=\"token tag\"><span class=\"token punctuation\">&lt;/</span>label</span><span class=\"token punctuation\">&gt;</span></span><span class=\"token tag\"><span class=\"token tag\"><span class=\"token punctuation\">&lt;/</span>span</span><span class=\"token punctuation\">&gt;</span></span><span class=\"token tag\"><span class=\"token tag\"><span class=\"token punctuation\">&lt;/</span>td</span><span class=\"token punctuation\">&gt;</span></span></div>\n",
    "<div style='border: 2px solid green; padding: 0.5px; margin: 0.5px;'><span class=\"token tag\"><span class=\"token tag\"><span class=\"token punctuation\">&lt;</span>td</span> <span class=\"token attr-name\">class</span><span class=\"token attr-value\"><span class=\"token punctuation\">=</span><span class=\"token punctuation\">\"</span>item-image-col<span class=\"token punctuation\">\"</span></span><span class=\"token punctuation\">&gt;</span></span>\n",
    "<span class=\"token tag\"><span class=\"token tag\"><span class=\"token punctuation\">&lt;</span>a</span><span class=\"token punctuation\">&gt;</span></span>\n",
    "<span class=\"token tag\"><span class=\"token tag\"><span class=\"token punctuation\">&lt;</span>img</span> <span class=\"token attr-name\">alt</span><span class=\"token attr-value\"><span class=\"token punctuation\">=</span><span class=\"token punctuation\">\"</span><span class=\"token punctuation\">\"</span></span> <span class=\"token attr-name\">class</span><span class=\"token attr-value\"><span class=\"token punctuation\">=</span><span class=\"token punctuation\">\"</span>item-image<span class=\"token punctuation\">\"</span></span> <span class=\"token attr-name\">src</span><span class=\"token attr-value\"><span class=\"token punctuation\">=</span><span class=\"token punctuation\">\"</span>https://syndetics.com/index.aspx?isbn=9780785153948/LC.gif<span class=\"token entity\" title=\"&amp;\">&amp;amp;</span>client=416-978-7639<span class=\"token punctuation\">\"</span></span><span class=\"token punctuation\">&gt;</span></span>\n",
    "<span class=\"token tag\"><span class=\"token tag\"><span class=\"token punctuation\">&lt;/</span>a</span><span class=\"token punctuation\">&gt;</span></span>\n",
    "<span class=\"token tag\"><span class=\"token tag\"><span class=\"token punctuation\">&lt;/</span>td</span><span class=\"token punctuation\">&gt;</span></span></div>\n",
    "<div style='border: 2px solid green; padding: 0.5px; margin: 0.5px;'><span class=\"token tag\"><span class=\"token tag\"><span class=\"token punctuation\">&lt;</span>td</span> <span class=\"token attr-name\">class</span><span class=\"token attr-value\"><span class=\"token punctuation\">=</span><span class=\"token punctuation\">\"</span>item-details<span class=\"token punctuation\">\"</span></span> <span class=\"token attr-name\">colspan</span><span class=\"token attr-value\"><span class=\"token punctuation\">=</span><span class=\"token punctuation\">\"</span>2<span class=\"token punctuation\">\"</span></span><span class=\"token punctuation\">&gt;</span></span>\n",
    "<span class=\"token tag\"><span class=\"token tag\"><span class=\"token punctuation\">&lt;</span>div</span> <span class=\"token attr-name\">class</span><span class=\"token attr-value\"><span class=\"token punctuation\">=</span><span class=\"token punctuation\">\"</span>item-title<span class=\"token punctuation\">\"</span></span><span class=\"token punctuation\">&gt;</span></span>\n",
    "<span class=\"token tag\"><span class=\"token tag\"><span class=\"token punctuation\">&lt;</span>a</span> <span class=\"token attr-name\">href</span><span class=\"token attr-value\"><span class=\"token punctuation\">=</span><span class=\"token punctuation\">\"</span>//www.torontopubliclibrary.ca/detail.jsp?R=3034817<span class=\"token entity\" title=\"&amp;\">&amp;amp;</span>Entt=RDM3034817<span class=\"token punctuation\">\"</span></span><span class=\"token punctuation\">&gt;</span></span><strong>Pacific Rim. Tales from year zero</strong><span class=\"token tag\"><span class=\"token tag\"><span class=\"token punctuation\">&lt;/</span>a</span><span class=\"token punctuation\">&gt;</span></span><span class=\"token tag\"><span class=\"token tag\"><span class=\"token punctuation\">&lt;/</span>div</span><span class=\"token punctuation\">&gt;</span></span>\n",
    "<span class=\"token tag\"><span class=\"token tag\"><span class=\"token punctuation\">&lt;</span>div</span> <span class=\"token attr-name\">class</span><span class=\"token attr-value\"><span class=\"token punctuation\">=</span><span class=\"token punctuation\">\"</span>item-author<span class=\"token punctuation\">\"</span></span><span class=\"token punctuation\">&gt;</span></span><strong>Beacham, Travis, 1980- author.</strong><span class=\"token tag\"><span class=\"token tag\"><span class=\"token punctuation\">&lt;/</span>div</span><span class=\"token punctuation\">&gt;</span></span>\n",
    "<span class=\"token tag\"><span class=\"token tag\"><span class=\"token punctuation\">&lt;</span>div</span> <span class=\"token attr-name\">class</span><span class=\"token attr-value\"><span class=\"token punctuation\">=</span><span class=\"token punctuation\">\"</span>item-barcode<span class=\"token punctuation\">\"</span></span><span class=\"token punctuation\">&gt;</span></span>\n",
    "<span class=\"token tag\"><span class=\"token tag\"><span class=\"token punctuation\">&lt;</span>p</span> <span class=\"token attr-name\">class</span><span class=\"token attr-value\"><span class=\"token punctuation\">=</span><span class=\"token punctuation\">\"</span>item-format-literal<span class=\"token punctuation\">\"</span></span><span class=\"token punctuation\">&gt;</span></span>Book<span class=\"token tag\"><span class=\"token tag\"><span class=\"token punctuation\">&lt;/</span>p</span><span class=\"token punctuation\">&gt;</span></span>\n",
    "<span class=\"token tag\"><span class=\"token tag\"><span class=\"token punctuation\">&lt;</span>p</span> <span class=\"token attr-name\">class</span><span class=\"token attr-value\"><span class=\"token punctuation\">=</span><span class=\"token punctuation\">\"</span>item-barcode-literal<span class=\"token punctuation\">\"</span></span><span class=\"token punctuation\">&gt;</span></span>37131 148 867 252<span class=\"token tag\"><span class=\"token tag\"><span class=\"token punctuation\">&lt;/</span>p</span><span class=\"token punctuation\">&gt;</span></span><span class=\"token tag\"><span class=\"token tag\"><span class=\"token punctuation\">&lt;/</span>div</span><span class=\"token punctuation\">&gt;</span></span><span class=\"token tag\"><span class=\"token tag\"><span class=\"token punctuation\">&lt;/</span>td</span><span class=\"token punctuation\">&gt;</span></span></div>\n",
    "<div style='border: 2px solid green; padding: 0.5px; margin: 0.5px;'><span class=\"token tag\"><span class=\"token tag\"><span class=\"token punctuation\">&lt;</span>td</span> <span class=\"token attr-name\">class</span><span class=\"token attr-value\"><span class=\"token punctuation\">=</span><span class=\"token punctuation\">\"</span>hidden-mobile<span class=\"token punctuation\">\"</span></span><span class=\"token punctuation\">&gt;</span></span><span class=\"token tag\"><span class=\"token tag\"><span class=\"token punctuation\">&lt;</span>div</span> <span class=\"token attr-name\">class</span><span class=\"token attr-value\"><span class=\"token punctuation\">=</span><span class=\"token punctuation\">\"</span>item-due<span class=\"token punctuation\">\"</span></span><span class=\"token punctuation\">&gt;</span></span><span class=\"token tag\"><span class=\"token tag\"><span class=\"token punctuation\">&lt;</span>span</span> <span class=\"token attr-name\">class</span><span class=\"token attr-value\"><span class=\"token punctuation\">=</span><span class=\"token punctuation\">\"</span>date<span class=\"token punctuation\">\"</span></span><span class=\"token punctuation\">&gt;</span></span><strong>Sat 17 Nov</strong><span class=\"token tag\"><span class=\"token tag\"><span class=\"token punctuation\">&lt;/</span>span</span><span class=\"token punctuation\">&gt;</span></span><span class=\"token tag\"><span class=\"token tag\"><span class=\"token punctuation\">&lt;/</span>div</span><span class=\"token punctuation\">&gt;</span></span><span class=\"token tag\"><span class=\"token tag\"><span class=\"token punctuation\">&lt;/</span>td</span><span class=\"token punctuation\">&gt;</span></span></div>\n",
    "<span class=\"token tag\"><span class=\"token tag\"><span class=\"token punctuation\">&lt;</span>td</span> <span class=\"token attr-name\">class</span><span class=\"token attr-value\"><span class=\"token punctuation\">=</span><span class=\"token punctuation\">\"</span>hidden-mobile<span class=\"token punctuation\">\"</span></span><span class=\"token punctuation\">&gt;</span></span><span class=\"token tag\"><span class=\"token tag\"><span class=\"token punctuation\">&lt;</span>div</span> <span class=\"token attr-name\">class</span><span class=\"token attr-value\"><span class=\"token punctuation\">=</span><span class=\"token punctuation\">\"</span>item-status<span class=\"token punctuation\">\"</span></span><span class=\"token punctuation\">&gt;</span></span><span class=\"token tag\"><span class=\"token tag\"><span class=\"token punctuation\">&lt;/</span>div</span><span class=\"token punctuation\">&gt;</span></span><span class=\"token tag\"><span class=\"token tag\"><span class=\"token punctuation\">&lt;/</span>td</span><span class=\"token punctuation\">&gt;</span></span><span class=\"token tag\"><span class=\"token tag\"><span class=\"token punctuation\">&lt;</span>td</span> <span class=\"token attr-name\">class</span><span class=\"token attr-value\"><span class=\"token punctuation\">=</span><span class=\"token punctuation\">\"</span>hidden-mobile<span class=\"token punctuation\">\"</span></span><span class=\"token punctuation\">&gt;</span></span><span class=\"token tag\"><span class=\"token tag\"><span class=\"token punctuation\">&lt;/</span>td</span><span class=\"token punctuation\">&gt;</span></span><span class=\"token tag\"><span class=\"token tag\"><span class=\"token punctuation\">&lt;</span>td</span> <span class=\"token attr-name\">class</span><span class=\"token attr-value\"><span class=\"token punctuation\">=</span><span class=\"token punctuation\">\"</span>hidden-mobile centered<span class=\"token punctuation\">\"</span></span><span class=\"token punctuation\">&gt;</span></span>1\n",
    "<span class=\"token tag\"><span class=\"token tag\"><span class=\"token punctuation\">&lt;/</span>td</span><span class=\"token punctuation\">&gt;</span></span>\n",
    "<span class=\"token tag\"><span class=\"token tag\"><span class=\"token punctuation\">&lt;</span>td</span> <span class=\"token attr-name\">class</span><span class=\"token attr-value\"><span class=\"token punctuation\">=</span><span class=\"token punctuation\">\"</span>item-actions<span class=\"token punctuation\">\"</span></span><span class=\"token punctuation\">&gt;</span></span>\n",
    "<span class=\"token tag\"><span class=\"token tag\"><span class=\"token punctuation\">&lt;</span>button</span> <span class=\"token attr-name\">class</span><span class=\"token attr-value\"><span class=\"token punctuation\">=</span><span class=\"token punctuation\">\"</span>btn-extended button btn-action<span class=\"token punctuation\">\"</span></span> <span class=\"token attr-name\">value</span><span class=\"token attr-value\"><span class=\"token punctuation\">=</span><span class=\"token punctuation\">\"</span>Renew<span class=\"token punctuation\">\"</span></span> <span class=\"token attr-name\">aria-label</span><span class=\"token attr-value\"><span class=\"token punctuation\">=</span><span class=\"token punctuation\">\"</span>Renew Pacific Rim. Tales from year zero<span class=\"token punctuation\">\"</span></span><span class=\"token punctuation\">&gt;</span></span>Renew<span class=\"token tag\"><span class=\"token tag\"><span class=\"token punctuation\">&lt;/</span>button</span><span class=\"token punctuation\">&gt;</span></span>\n",
    "<span class=\"token tag\"><span class=\"token tag\"><span class=\"token punctuation\">&lt;/</span>td</span><span class=\"token punctuation\">&gt;</span></span><span class=\"token tag\"><span class=\"token tag\"><span class=\"token punctuation\">&lt;/</span>tr</span><span class=\"token punctuation\">&gt;</span></span></code></pre>"
   ]
  },
  {
   "cell_type": "markdown",
   "metadata": {
    "slideshow": {
     "slide_type": "subslide"
    }
   },
   "source": [
    "## Zooming in on the part we care about..."
   ]
  },
  {
   "cell_type": "markdown",
   "metadata": {
    "slideshow": {
     "slide_type": "fragment"
    }
   },
   "source": [
    "<pre style=\"font-size: 14pt\" class=\"  language-markup\"><code class=\"  language-markup\">\n",
    "<span class=\"token tag\"><span class=\"token tag\"><span class=\"token punctuation\">&lt;</span>td</span> <span class=\"token attr-name\">class</span><span class=\"token attr-value\"><span class=\"token punctuation\">=</span><span class=\"token punctuation\">\"</span>item-details<span class=\"token punctuation\">\"</span></span> <span class=\"token attr-name\">colspan</span><span class=\"token attr-value\"><span class=\"token punctuation\">=</span><span class=\"token punctuation\">\"</span>2<span class=\"token punctuation\">\"</span></span><span class=\"token punctuation\">&gt;</span></span>\n",
    "<span class=\"token tag\"><span class=\"token tag\"><span class=\"token punctuation\">&lt;</span>div</span> <span class=\"token attr-name\">class</span><span class=\"token attr-value\"><span class=\"token punctuation\">=</span><span class=\"token punctuation\">\"</span>item-title<span class=\"token punctuation\">\"</span></span><span class=\"token punctuation\">&gt;</span></span>\n",
    "<span class=\"token tag\"><span class=\"token tag\"><span class=\"token punctuation\">&lt;</span>a</span> <span class=\"token attr-name\">href</span><span class=\"token attr-value\"><span class=\"token punctuation\">=</span><span class=\"token punctuation\">\"</span>//www.torontopubliclibrary.ca/detail.jsp?R=3034817<span class=\"token entity\" title=\"&amp;\">&amp;amp;</span>Entt=RDM3034817<span class=\"token punctuation\">\"</span></span><span class=\"token punctuation\">&gt;</span></span>\n",
    "<strong>Pacific Rim. Tales from year zero</strong><span class=\"token tag\"><span class=\"token tag\"><span class=\"token punctuation\">&lt;/</span>a</span><span class=\"token punctuation\">&gt;</span></span><span class=\"token tag\"><span class=\"token tag\"><span class=\"token punctuation\">&lt;/</span>div</span><span class=\"token punctuation\">&gt;</span></span>\n",
    "<span class=\"token tag\"><span class=\"token tag\"><span class=\"token punctuation\">&lt;</span>div</span> <span class=\"token attr-name\">class</span><span class=\"token attr-value\"><span class=\"token punctuation\">=</span><span class=\"token punctuation\">\"</span>item-author<span class=\"token punctuation\">\"</span></span><span class=\"token punctuation\">&gt;</span></span><strong>Beacham, Travis, 1980- author.</strong><span class=\"token tag\"><span class=\"token tag\"><span class=\"token punctuation\">&lt;/</span>div</span><span class=\"token punctuation\">&gt;</span></span>\n",
    "<span class=\"token tag\"><span class=\"token tag\"><span class=\"token punctuation\">&lt;</span>div</span> <span class=\"token attr-name\">class</span><span class=\"token attr-value\"><span class=\"token punctuation\">=</span><span class=\"token punctuation\">\"</span>item-barcode<span class=\"token punctuation\">\"</span></span><span class=\"token punctuation\">&gt;</span></span>\n",
    "<span class=\"token tag\"><span class=\"token tag\"><span class=\"token punctuation\">&lt;</span>p</span> <span class=\"token attr-name\">class</span><span class=\"token attr-value\"><span class=\"token punctuation\">=</span><span class=\"token punctuation\">\"</span>item-format-literal<span class=\"token punctuation\">\"</span></span><span class=\"token punctuation\">&gt;</span></span>Book<span class=\"token tag\"><span class=\"token tag\"><span class=\"token punctuation\">&lt;/</span>p</span><span class=\"token punctuation\">&gt;</span></span>\n",
    "<span class=\"token tag\"><span class=\"token tag\"><span class=\"token punctuation\">&lt;</span>p</span> <span class=\"token attr-name\">class</span><span class=\"token attr-value\"><span class=\"token punctuation\">=</span><span class=\"token punctuation\">\"</span>item-barcode-literal<span class=\"token punctuation\">\"</span></span><span class=\"token punctuation\">&gt;</span></span>37131 148 867 252<span class=\"token tag\"><span class=\"token tag\"><span class=\"token punctuation\">&lt;/</span>p</span><span class=\"token punctuation\">&gt;</span></span><span class=\"token tag\"><span class=\"token tag\"><span class=\"token punctuation\">&lt;/</span>div</span><span class=\"token punctuation\">&gt;</span></span><span class=\"token tag\"><span class=\"token tag\"><span class=\"token punctuation\">&lt;/</span>td</span><span class=\"token punctuation\">&gt;</span></span>\n",
    "<span class=\"token tag\"><span class=\"token tag\"><span class=\"token punctuation\">&lt;</span>td</span> <span class=\"token attr-name\">class</span><span class=\"token attr-value\"><span class=\"token punctuation\">=</span><span class=\"token punctuation\">\"</span>hidden-mobile<span class=\"token punctuation\">\"</span></span><span class=\"token punctuation\">&gt;</span></span><span class=\"token tag\"><span class=\"token tag\"><span class=\"token punctuation\">&lt;</span>div</span> <span class=\"token attr-name\">class</span><span class=\"token attr-value\"><span class=\"token punctuation\">=</span><span class=\"token punctuation\">\"</span>item-due<span class=\"token punctuation\">\"</span></span><span class=\"token punctuation\">&gt;</span></span>\n",
    "<span class=\"token tag\"><span class=\"token tag\"><span class=\"token punctuation\">&lt;</span>span</span> <span class=\"token attr-name\">class</span><span class=\"token attr-value\"><span class=\"token punctuation\">=</span><span class=\"token punctuation\">\"</span>date<span class=\"token punctuation\">\"</span></span><span class=\"token punctuation\">&gt;</span></span><strong>Sat 17 Nov</strong><span class=\"token tag\"><span class=\"token tag\"><span class=\"token punctuation\">&lt;/</span>span</span><span class=\"token punctuation\">&gt;</span></span><span class=\"token tag\"><span class=\"token tag\"><span class=\"token punctuation\">&lt;/</span>div</span><span class=\"token punctuation\">&gt;</span></span><span class=\"token tag\"><span class=\"token tag\"><span class=\"token punctuation\">&lt;/</span>td</span><span class=\"token punctuation\">&gt;</span></span>\n",
    "<span class=\"token tag\"><span class=\"token tag\"><span class=\"token punctuation\">&lt;</span>td</span> <span class=\"token attr-name\">class</span><span class=\"token attr-value\"><span class=\"token punctuation\">=</span><span class=\"token punctuation\">\"</span>hidden-mobile<span class=\"token punctuation\">\"</span></span><span class=\"token punctuation\">&gt;</span></span><span class=\"token tag\"><span class=\"token tag\"><span class=\"token punctuation\">&lt;</span>div</span> <span class=\"token attr-name\">class</span><span class=\"token attr-value\"><span class=\"token punctuation\">=</span><span class=\"token punctuation\">\"</span>item-status<span class=\"token punctuation\">\"</span></span><span class=\"token punctuation\">&gt;</span></span><span class=\"token tag\"><span class=\"token tag\"><span class=\"token punctuation\">&lt;/</span>div</span><span class=\"token punctuation\">&gt;</span></span><span class=\"token tag\"><span class=\"token tag\"><span class=\"token punctuation\">&lt;/</span>td</span><span class=\"token punctuation\">&gt;</span></span><span class=\"token tag\"><span class=\"token tag\"><span class=\"token punctuation\">&lt;</span>td</span> <span class=\"token attr-name\">class</span><span class=\"token attr-value\"><span class=\"token punctuation\">=</span><span class=\"token punctuation\">\"</span>hidden-mobile<span class=\"token punctuation\">\"</span></span><span class=\"token punctuation\">&gt;</span></span><span class=\"token tag\"><span class=\"token tag\"><span class=\"token punctuation\">&lt;/</span>td</span><span class=\"token punctuation\">&gt;</span></span><span class=\"token tag\"><span class=\"token tag\"><span class=\"token punctuation\">&lt;</span>td</span> <span class=\"token attr-name\">class</span><span class=\"token attr-value\"><span class=\"token punctuation\">=</span><span class=\"token punctuation\">\"</span>hidden-mobile centered<span class=\"token punctuation\">\"</span></span><span class=\"token punctuation\">&gt;</span></span>1\n",
    "<span class=\"token tag\"><span class=\"token tag\"><span class=\"token punctuation\">&lt;/</span>td</span><span class=\"token punctuation\">&gt;</span></span>\n",
    "<span class=\"token tag\"><span class=\"token tag\"><span class=\"token punctuation\">&lt;</span>td</span> <span class=\"token attr-name\">class</span><span class=\"token attr-value\"><span class=\"token punctuation\">=</span><span class=\"token punctuation\">\"</span>item-actions<span class=\"token punctuation\">\"</span></span><span class=\"token punctuation\">&gt;</span></span>\n",
    "<span class=\"token tag\"><span class=\"token tag\"><span class=\"token punctuation\">&lt;</span>button</span> <span class=\"token attr-name\">class</span><span class=\"token attr-value\"><span class=\"token punctuation\">=</span><span class=\"token punctuation\">\"</span>btn-extended button btn-action<span class=\"token punctuation\">\"</span></span> <span class=\"token attr-name\">value</span><span class=\"token attr-value\"><span class=\"token punctuation\">=</span><span class=\"token punctuation\">\"</span>Renew<span class=\"token punctuation\">\"</span></span> <span class=\"token attr-name\">aria-label</span><span class=\"token attr-value\"><span class=\"token punctuation\">=</span><span class=\"token punctuation\">\"</span>Renew Pacific Rim. Tales from year zero<span class=\"token punctuation\">\"</span></span><span class=\"token punctuation\">&gt;</span></span>Renew<span class=\"token tag\"><span class=\"token tag\"><span class=\"token punctuation\">&lt;/</span>button</span><span class=\"token punctuation\">&gt;</span></span>\n",
    "<span class=\"token tag\"><span class=\"token tag\"><span class=\"token punctuation\">&lt;/</span>td</span><span class=\"token punctuation\">&gt;</span></span><span class=\"token tag\"><span class=\"token tag\"><span class=\"token punctuation\">&lt;/</span>tr</span><span class=\"token punctuation\">&gt;</span></span></code></pre>"
   ]
  },
  {
   "cell_type": "markdown",
   "metadata": {
    "slideshow": {
     "slide_type": "subslide"
    }
   },
   "source": [
    "## Break out Table Cells `<td>`"
   ]
  },
  {
   "cell_type": "markdown",
   "metadata": {
    "slideshow": {
     "slide_type": "fragment"
    }
   },
   "source": [
    "<pre style=\"font-size: 12pt\" class=\"  language-markup\"><code class=\"  language-markup\">\n",
    "<div style='border: 2px solid green; padding: 0.5px; margin: 0.5px;'><span class=\"token tag\"><span class=\"token tag\"><span class=\"token punctuation\">&lt;</span>td</span> <span class=\"token attr-name\">class</span><span class=\"token attr-value\"><span class=\"token punctuation\">=</span><span class=\"token punctuation\">\"</span>item-details<span class=\"token punctuation\">\"</span></span> <span class=\"token attr-name\">colspan</span><span class=\"token attr-value\"><span class=\"token punctuation\">=</span><span class=\"token punctuation\">\"</span>2<span class=\"token punctuation\">\"</span></span><span class=\"token punctuation\">&gt;</span></span>\n",
    "<span class=\"token tag\"><span class=\"token tag\"><span class=\"token punctuation\">&lt;</span>div</span> <span class=\"token attr-name\">class</span><span class=\"token attr-value\"><span class=\"token punctuation\">=</span><span class=\"token punctuation\">\"</span>item-title<span class=\"token punctuation\">\"</span></span><span class=\"token punctuation\">&gt;</span></span>\n",
    "<span class=\"token tag\"><span class=\"token tag\"><span class=\"token punctuation\">&lt;</span>a</span> <span class=\"token attr-name\">href</span><span class=\"token attr-value\"><span class=\"token punctuation\">=</span><span class=\"token punctuation\">\"</span>//www.torontopubliclibrary.ca/detail.jsp?R=3034817<span class=\"token entity\" title=\"&amp;\">&amp;amp;</span>Entt=RDM3034817<span class=\"token punctuation\">\"</span></span><span class=\"token punctuation\">&gt;</span></span>\n",
    "<strong>Pacific Rim. Tales from year zero</strong><span class=\"token tag\"><span class=\"token tag\"><span class=\"token punctuation\">&lt;/</span>a</span><span class=\"token punctuation\">&gt;</span></span><span class=\"token tag\"><span class=\"token tag\"><span class=\"token punctuation\">&lt;/</span>div</span><span class=\"token punctuation\">&gt;</span></span>\n",
    "<span class=\"token tag\"><span class=\"token tag\"><span class=\"token punctuation\">&lt;</span>div</span> <span class=\"token attr-name\">class</span><span class=\"token attr-value\"><span class=\"token punctuation\">=</span><span class=\"token punctuation\">\"</span>item-author<span class=\"token punctuation\">\"</span></span><span class=\"token punctuation\">&gt;</span></span><strong>Beacham, Travis, 1980- author.</strong><span class=\"token tag\"><span class=\"token tag\"><span class=\"token punctuation\">&lt;/</span>div</span><span class=\"token punctuation\">&gt;</span></span>\n",
    "<span class=\"token tag\"><span class=\"token tag\"><span class=\"token punctuation\">&lt;</span>div</span> <span class=\"token attr-name\">class</span><span class=\"token attr-value\"><span class=\"token punctuation\">=</span><span class=\"token punctuation\">\"</span>item-barcode<span class=\"token punctuation\">\"</span></span><span class=\"token punctuation\">&gt;</span></span>\n",
    "<span class=\"token tag\"><span class=\"token tag\"><span class=\"token punctuation\">&lt;</span>p</span> <span class=\"token attr-name\">class</span><span class=\"token attr-value\"><span class=\"token punctuation\">=</span><span class=\"token punctuation\">\"</span>item-format-literal<span class=\"token punctuation\">\"</span></span><span class=\"token punctuation\">&gt;</span></span>Book<span class=\"token tag\"><span class=\"token tag\"><span class=\"token punctuation\">&lt;/</span>p</span><span class=\"token punctuation\">&gt;</span></span>\n",
    "<span class=\"token tag\"><span class=\"token tag\"><span class=\"token punctuation\">&lt;</span>p</span> <span class=\"token attr-name\">class</span><span class=\"token attr-value\"><span class=\"token punctuation\">=</span><span class=\"token punctuation\">\"</span>item-barcode-literal<span class=\"token punctuation\">\"</span></span><span class=\"token punctuation\">&gt;</span></span>37131 148 867 252<span class=\"token tag\"><span class=\"token tag\"><span class=\"token punctuation\">&lt;/</span>p</span><span class=\"token punctuation\">&gt;</span></span><span class=\"token tag\"><span class=\"token tag\"><span class=\"token punctuation\">&lt;/</span>div</span><span class=\"token punctuation\">&gt;</span></span><span class=\"token tag\"><span class=\"token tag\"><span class=\"token punctuation\">&lt;/</span>td</span><span class=\"token punctuation\">&gt;</span></span></div>\n",
    "<div style='border: 2px solid green; padding: 0.5px; margin: 0.5px;'><span class=\"token tag\"><span class=\"token tag\"><span class=\"token punctuation\">&lt;</span>td</span> <span class=\"token attr-name\">class</span><span class=\"token attr-value\"><span class=\"token punctuation\">=</span><span class=\"token punctuation\">\"</span>hidden-mobile<span class=\"token punctuation\">\"</span></span><span class=\"token punctuation\">&gt;</span></span><span class=\"token tag\"><span class=\"token tag\"><span class=\"token punctuation\">&lt;</span>div</span> <span class=\"token attr-name\">class</span><span class=\"token attr-value\"><span class=\"token punctuation\">=</span><span class=\"token punctuation\">\"</span>item-due<span class=\"token punctuation\">\"</span></span><span class=\"token punctuation\">&gt;</span></span>\n",
    "<span class=\"token tag\"><span class=\"token tag\"><span class=\"token punctuation\">&lt;</span>span</span> <span class=\"token attr-name\">class</span><span class=\"token attr-value\"><span class=\"token punctuation\">=</span><span class=\"token punctuation\">\"</span>date<span class=\"token punctuation\">\"</span></span><span class=\"token punctuation\">&gt;</span></span><strong>Sat 17 Nov</strong><span class=\"token tag\"><span class=\"token tag\"><span class=\"token punctuation\">&lt;/</span>span</span><span class=\"token punctuation\">&gt;</span></span><span class=\"token tag\"><span class=\"token tag\"><span class=\"token punctuation\">&lt;/</span>div</span><span class=\"token punctuation\">&gt;</span></span><span class=\"token tag\"><span class=\"token tag\"><span class=\"token punctuation\">&lt;/</span>td</span><span class=\"token punctuation\">&gt;</span></span></div>\n",
    "<div style='border: 2px solid green; padding: 0.5px; margin: 0.5px;'><span class=\"token tag\"><span class=\"token tag\"><span class=\"token punctuation\">&lt;</span>td</span> <span class=\"token attr-name\">class</span><span class=\"token attr-value\"><span class=\"token punctuation\">=</span><span class=\"token punctuation\">\"</span>hidden-mobile<span class=\"token punctuation\">\"</span></span><span class=\"token punctuation\">&gt;</span></span><span class=\"token tag\"><span class=\"token tag\"><span class=\"token punctuation\">&lt;</span>div</span> <span class=\"token attr-name\">class</span><span class=\"token attr-value\"><span class=\"token punctuation\">=</span><span class=\"token punctuation\">\"</span>item-status<span class=\"token punctuation\">\"</span></span><span class=\"token punctuation\">&gt;</span></span><span class=\"token tag\"><span class=\"token tag\"><span class=\"token punctuation\">&lt;/</span>div</span><span class=\"token punctuation\">&gt;</span></span><span class=\"token tag\"><span class=\"token tag\"><span class=\"token punctuation\">&lt;/</span>td</span><span class=\"token punctuation\">&gt;</span></span><span class=\"token tag\"><span class=\"token tag\"><span class=\"token punctuation\">&lt;</span>td</span> <span class=\"token attr-name\">class</span><span class=\"token attr-value\"><span class=\"token punctuation\">=</span><span class=\"token punctuation\">\"</span>hidden-mobile<span class=\"token punctuation\">\"</span></span><span class=\"token punctuation\">&gt;</span></span><span class=\"token tag\"><span class=\"token tag\"><span class=\"token punctuation\">&lt;/</span>td</span><span class=\"token punctuation\">&gt;</span></span><span class=\"token tag\"><span class=\"token tag\"><span class=\"token punctuation\">&lt;</span>td</span> <span class=\"token attr-name\">class</span><span class=\"token attr-value\"><span class=\"token punctuation\">=</span><span class=\"token punctuation\">\"</span>hidden-mobile centered<span class=\"token punctuation\">\"</span></span><span class=\"token punctuation\">&gt;</span></span>1\n",
    "<span class=\"token tag\"><span class=\"token tag\"><span class=\"token punctuation\">&lt;/</span>td</span><span class=\"token punctuation\">&gt;</span></span>\n",
    "<span class=\"token tag\"><span class=\"token tag\"><span class=\"token punctuation\">&lt;</span>td</span> <span class=\"token attr-name\">class</span><span class=\"token attr-value\"><span class=\"token punctuation\">=</span><span class=\"token punctuation\">\"</span>item-actions<span class=\"token punctuation\">\"</span></span><span class=\"token punctuation\">&gt;</span></span>\n",
    "<span class=\"token tag\"><span class=\"token tag\"><span class=\"token punctuation\">&lt;</span>button</span> <span class=\"token attr-name\">class</span><span class=\"token attr-value\"><span class=\"token punctuation\">=</span><span class=\"token punctuation\">\"</span>btn-extended button btn-action<span class=\"token punctuation\">\"</span></span> <span class=\"token attr-name\">value</span><span class=\"token attr-value\"><span class=\"token punctuation\">=</span><span class=\"token punctuation\">\"</span>Renew<span class=\"token punctuation\">\"</span></span> <span class=\"token attr-name\">aria-label</span><span class=\"token attr-value\"><span class=\"token punctuation\">=</span><span class=\"token punctuation\">\"</span>Renew Pacific Rim. Tales from year zero<span class=\"token punctuation\">\"</span></span><span class=\"token punctuation\">&gt;</span></span>Renew<span class=\"token tag\"><span class=\"token tag\"><span class=\"token punctuation\">&lt;/</span>button</span><span class=\"token punctuation\">&gt;</span></span>\n",
    "<span class=\"token tag\"><span class=\"token tag\"><span class=\"token punctuation\">&lt;/</span>td</span><span class=\"token punctuation\">&gt;</span></span></div><span class=\"token tag\"><span class=\"token tag\"><span class=\"token punctuation\">&lt;/</span>tr</span><span class=\"token punctuation\">&gt;</span></span></code></pre>"
   ]
  },
  {
   "cell_type": "markdown",
   "metadata": {
    "slideshow": {
     "slide_type": "subslide"
    }
   },
   "source": [
    "## The `item-details` cell"
   ]
  },
  {
   "cell_type": "markdown",
   "metadata": {
    "slideshow": {
     "slide_type": "fragment"
    }
   },
   "source": [
    "<pre style=\"font-size: 14pt\" class=\"  language-markup\"><code class=\"  language-markup\">\n",
    "<span class=\"token tag\"><span class=\"token tag\"><span class=\"token punctuation\">&lt;</span>td</span> <span class=\"token attr-name\">class</span><span class=\"token attr-value\"><span class=\"token punctuation\">=</span><span class=\"token punctuation\">\"</span>item-details<span class=\"token punctuation\">\"</span></span> <span class=\"token attr-name\">colspan</span><span class=\"token attr-value\"><span class=\"token punctuation\">=</span><span class=\"token punctuation\">\"</span>2<span class=\"token punctuation\">\"</span></span><span class=\"token punctuation\">&gt;</span></span>\n",
    "<span class=\"token tag\"><span class=\"token tag\"><span class=\"token punctuation\">&lt;</span>div</span> <span class=\"token attr-name\">class</span><span class=\"token attr-value\"><span class=\"token punctuation\">=</span><span class=\"token punctuation\">\"</span>item-title<span class=\"token punctuation\">\"</span></span><span class=\"token punctuation\">&gt;</span></span>\n",
    "<span class=\"token tag\"><span class=\"token tag\"><span class=\"token punctuation\">&lt;</span>a</span> <span class=\"token attr-name\">href</span><span class=\"token attr-value\"><span class=\"token punctuation\">=</span><span class=\"token punctuation\">\"</span>//www.torontopubliclibrary.ca/detail.jsp?R=3034817<span class=\"token entity\" title=\"&amp;\">&amp;amp;</span>Entt=RDM3034817<span class=\"token punctuation\">\"</span></span><span class=\"token punctuation\">&gt;</span></span>\n",
    "<strong>Pacific Rim. Tales from year zero</strong><span class=\"token tag\"><span class=\"token tag\"><span class=\"token punctuation\">&lt;/</span>a</span><span class=\"token punctuation\">&gt;</span></span><span class=\"token tag\"><span class=\"token tag\"><span class=\"token punctuation\">&lt;/</span>div</span><span class=\"token punctuation\">&gt;</span></span>\n",
    "<span class=\"token tag\"><span class=\"token tag\"><span class=\"token punctuation\">&lt;</span>div</span> <span class=\"token attr-name\">class</span><span class=\"token attr-value\"><span class=\"token punctuation\">=</span><span class=\"token punctuation\">\"</span>item-author<span class=\"token punctuation\">\"</span></span><span class=\"token punctuation\">&gt;</span></span><strong>Beacham, Travis, 1980- author.</strong><span class=\"token tag\"><span class=\"token tag\"><span class=\"token punctuation\">&lt;/</span>div</span><span class=\"token punctuation\">&gt;</span></span>\n",
    "<span class=\"token tag\"><span class=\"token tag\"><span class=\"token punctuation\">&lt;</span>div</span> <span class=\"token attr-name\">class</span><span class=\"token attr-value\"><span class=\"token punctuation\">=</span><span class=\"token punctuation\">\"</span>item-barcode<span class=\"token punctuation\">\"</span></span><span class=\"token punctuation\">&gt;</span></span>\n",
    "<span class=\"token tag\"><span class=\"token tag\"><span class=\"token punctuation\">&lt;</span>p</span> <span class=\"token attr-name\">class</span><span class=\"token attr-value\"><span class=\"token punctuation\">=</span><span class=\"token punctuation\">\"</span>item-format-literal<span class=\"token punctuation\">\"</span></span><span class=\"token punctuation\">&gt;</span></span>Book<span class=\"token tag\"><span class=\"token tag\"><span class=\"token punctuation\">&lt;/</span>p</span><span class=\"token punctuation\">&gt;</span></span>\n",
    "<span class=\"token tag\"><span class=\"token tag\"><span class=\"token punctuation\">&lt;</span>p</span> <span class=\"token attr-name\">class</span><span class=\"token attr-value\"><span class=\"token punctuation\">=</span><span class=\"token punctuation\">\"</span>item-barcode-literal<span class=\"token punctuation\">\"</span></span><span class=\"token punctuation\">&gt;</span></span>37131 148 867 252<span class=\"token tag\"><span class=\"token tag\"><span class=\"token punctuation\">&lt;/</span>p</span><span class=\"token punctuation\">&gt;</span></span><span class=\"token tag\"><span class=\"token tag\"><span class=\"token punctuation\">&lt;/</span>div</span><span class=\"token punctuation\">&gt;</span></span><span class=\"token tag\"><span class=\"token tag\"><span class=\"token punctuation\">&lt;/</span>td</span><span class=\"token punctuation\">&gt;</span></span>\n",
    "</code></pre>"
   ]
  },
  {
   "cell_type": "markdown",
   "metadata": {
    "slideshow": {
     "slide_type": "subslide"
    }
   },
   "source": [
    "## Break out the `<div>`s"
   ]
  },
  {
   "cell_type": "markdown",
   "metadata": {
    "slideshow": {
     "slide_type": "fragment"
    }
   },
   "source": [
    "<pre style=\"font-size: 14pt\" class=\"  language-markup\"><code class=\"  language-markup\">\n",
    "<span class=\"token tag\"><span class=\"token tag\"><span class=\"token punctuation\">&lt;</span>td</span> <span class=\"token attr-name\">class</span><span class=\"token attr-value\"><span class=\"token punctuation\">=</span><span class=\"token punctuation\">\"</span>item-details<span class=\"token punctuation\">\"</span></span> <span class=\"token attr-name\">colspan</span><span class=\"token attr-value\"><span class=\"token punctuation\">=</span><span class=\"token punctuation\">\"</span>2<span class=\"token punctuation\">\"</span></span><span class=\"token punctuation\">&gt;</span></span>\n",
    "<div style='border: 2px solid green; padding: 0.5px; margin: 0.5px;'><span class=\"token tag\"><span class=\"token tag\"><span class=\"token punctuation\">&lt;</span>div</span> <span class=\"token attr-name\">class</span><span class=\"token attr-value\"><span class=\"token punctuation\">=</span><span class=\"token punctuation\">\"</span>item-title<span class=\"token punctuation\">\"</span></span><span class=\"token punctuation\">&gt;</span></span>\n",
    "<span class=\"token tag\"><span class=\"token tag\"><span class=\"token punctuation\">&lt;</span>a</span> <span class=\"token attr-name\">href</span><span class=\"token attr-value\"><span class=\"token punctuation\">=</span><span class=\"token punctuation\">\"</span>//www.torontopubliclibrary.ca/detail.jsp?R=3034817<span class=\"token entity\" title=\"&amp;\">&amp;amp;</span>Entt=RDM3034817<span class=\"token punctuation\">\"</span></span><span class=\"token punctuation\">&gt;</span></span>\n",
    "<strong>Pacific Rim. Tales from year zero</strong><span class=\"token tag\"><span class=\"token tag\"><span class=\"token punctuation\">&lt;/</span>a</span><span class=\"token punctuation\">&gt;</span></span><span class=\"token tag\"><span class=\"token tag\"><span class=\"token punctuation\">&lt;/</span>div</span><span class=\"token punctuation\">&gt;</span></span></div>\n",
    "<div style='border: 2px solid green; padding: 0.5px; margin: 0.5px;'><span class=\"token tag\"><span class=\"token tag\"><span class=\"token punctuation\">&lt;</span>div</span> <span class=\"token attr-name\">class</span><span class=\"token attr-value\"><span class=\"token punctuation\">=</span><span class=\"token punctuation\">\"</span>item-author<span class=\"token punctuation\">\"</span></span><span class=\"token punctuation\">&gt;</span></span><strong>Beacham, Travis, 1980- author.</strong><span class=\"token tag\"><span class=\"token tag\"><span class=\"token punctuation\">&lt;/</span>div</span><span class=\"token punctuation\">&gt;</span></span></div>\n",
    "<span class=\"token tag\"><span class=\"token tag\"><span class=\"token punctuation\">&lt;</span>div</span> <span class=\"token attr-name\">class</span><span class=\"token attr-value\"><span class=\"token punctuation\">=</span><span class=\"token punctuation\">\"</span>item-barcode<span class=\"token punctuation\">\"</span></span><span class=\"token punctuation\">&gt;</span></span>\n",
    "<span class=\"token tag\"><span class=\"token tag\"><span class=\"token punctuation\">&lt;</span>p</span> <span class=\"token attr-name\">class</span><span class=\"token attr-value\"><span class=\"token punctuation\">=</span><span class=\"token punctuation\">\"</span>item-format-literal<span class=\"token punctuation\">\"</span></span><span class=\"token punctuation\">&gt;</span></span>Book<span class=\"token tag\"><span class=\"token tag\"><span class=\"token punctuation\">&lt;/</span>p</span><span class=\"token punctuation\">&gt;</span></span>\n",
    "<span class=\"token tag\"><span class=\"token tag\"><span class=\"token punctuation\">&lt;</span>p</span> <span class=\"token attr-name\">class</span><span class=\"token attr-value\"><span class=\"token punctuation\">=</span><span class=\"token punctuation\">\"</span>item-barcode-literal<span class=\"token punctuation\">\"</span></span><span class=\"token punctuation\">&gt;</span></span>37131 148 867 252<span class=\"token tag\"><span class=\"token tag\"><span class=\"token punctuation\">&lt;/</span>p</span><span class=\"token punctuation\">&gt;</span></span><span class=\"token tag\"><span class=\"token tag\"><span class=\"token punctuation\">&lt;/</span>div</span><span class=\"token punctuation\">&gt;</span></span><span class=\"token tag\"><span class=\"token tag\"><span class=\"token punctuation\">&lt;/</span>td</span><span class=\"token punctuation\">&gt;</span></span>\n",
    "</code></pre>"
   ]
  },
  {
   "cell_type": "markdown",
   "metadata": {
    "slideshow": {
     "slide_type": "subslide"
    }
   },
   "source": [
    "## The Due Date Cell"
   ]
  },
  {
   "cell_type": "markdown",
   "metadata": {
    "slideshow": {
     "slide_type": "fragment"
    }
   },
   "source": [
    "<pre class=\"  language-markup\"><code class=\"  language-markup\">\n",
    "<span class=\"token tag\"><span class=\"token tag\"><span class=\"token punctuation\">&lt;</span>td</span> <span class=\"token attr-name\">class</span><span class=\"token attr-value\"><span class=\"token punctuation\">=</span><span class=\"token punctuation\">\"</span>hidden-mobile<span class=\"token punctuation\">\"</span></span><span class=\"token punctuation\">&gt;</span></span><span class=\"token tag\"><span class=\"token tag\"><span class=\"token punctuation\">&lt;</span>div</span> <span class=\"token attr-name\">class</span><span class=\"token attr-value\"><span class=\"token punctuation\">=</span><span class=\"token punctuation\">\"</span>item-due<span class=\"token punctuation\">\"</span></span><span class=\"token punctuation\">&gt;</span></span>\n",
    "<span class=\"token tag\"><span class=\"token tag\"><span class=\"token punctuation\">&lt;</span>span</span> <span class=\"token attr-name\">class</span><span class=\"token attr-value\"><span class=\"token punctuation\">=</span><span class=\"token punctuation\">\"</span>date<span class=\"token punctuation\">\"</span></span><span class=\"token punctuation\">&gt;</span></span><strong>Sat 17 Nov</strong><span class=\"token tag\"><span class=\"token tag\"><span class=\"token punctuation\">&lt;/</span>span</span><span class=\"token punctuation\">&gt;</span></span><span class=\"token tag\"><span class=\"token tag\"><span class=\"token punctuation\">&lt;/</span>div</span><span class=\"token punctuation\">&gt;</span></span><span class=\"token tag\"><span class=\"token tag\"><span class=\"token punctuation\">&lt;/</span>td</span><span class=\"token punctuation\">&gt;</span></span>\n",
    "</code></pre>"
   ]
  },
  {
   "cell_type": "code",
   "execution_count": 10,
   "metadata": {
    "slideshow": {
     "slide_type": "subslide"
    }
   },
   "outputs": [],
   "source": [
    "def parse_checkout_row(row):\n",
    "    \"\"\"\n",
    "    Take a table row and return text about the item.\n",
    "    \"\"\"\n",
    "    cells = row.find_all('td')\n",
    "    try:\n",
    "        item_due = cells[3].text\n",
    "        item_parts = cells[2].find_all('div')\n",
    "        item_title = item_parts[0].text\n",
    "        item_author = item_parts[1].text\n",
    "        try:\n",
    "            item_date_due = parse(item_due, timezone = tz)\n",
    "        except ValueError:\n",
    "            due_in_parens = item_due[item_due.find(\"(\")+1:item_due.find(\")\")]\n",
    "            item_date_due = parse(due_in_parens, timezone = tz)\n",
    "        how_long = item_date_due - Delorean(timezone = tz) + timedelta(days=1)\n",
    "        day_text = ('1 day' if how_long.days == 1 else f'{how_long.days} days')\n",
    "        item_name = cells[2].text\n",
    "        return f'{how_long.days}D: {item_title} by {item_author} is due in {day_text} on {item_due}'\n",
    "    except IndexError:\n",
    "        pass"
   ]
  },
  {
   "cell_type": "code",
   "execution_count": 11,
   "metadata": {
    "slideshow": {
     "slide_type": "subslide"
    }
   },
   "outputs": [],
   "source": [
    "items = (parse_checkout_row(r) for r in rows)\n",
    "items = [i for i in items if i]"
   ]
  },
  {
   "cell_type": "code",
   "execution_count": 13,
   "metadata": {
    "slideshow": {
     "slide_type": "subslide"
    }
   },
   "outputs": [
    {
     "data": {
      "text/plain": [
       "['7D: Pacific Rim. Tales from year zero by Beacham, Travis, 1980- author. is due in 7 days on Sat 17 Nov',\n",
       " '7D: Superior Spider-Man team-up. Friendly fire by Gage, Christos. is due in 7 days on Sat 17 Nov',\n",
       " '7D: The superior foes of Spider-Man. Volume 3, Game over by Spencer, Nick, author. is due in 7 days on Sat 17 Nov',\n",
       " '7D: Effective awk programming by Robbins, Arnold, author. is due in 7 days on Sat 17 Nov',\n",
       " '7D: Communicating data with Tableau by Jones, Ben. is due in 7 days on Sat 17 Nov',\n",
       " '7D: Superior Spider-Man team-up. Vol. 1, Versus by Yost, Christopher, author. is due in 7 days on Sat 17 Nov',\n",
       " '7D: The amazing Spider-Man. Vol. 2, Spider-verse prelude by Slott, Dan, author. is due in 7 days on Sat 17 Nov',\n",
       " '7D: The Superior Spider-Man. 6, Goblin nation by Slott, Dan, author. is due in 7 days on Sat 17 Nov',\n",
       " '7D: State tectonics by Older, Malka, 1977- author. is due in 7 days on Sat 17 Nov',\n",
       " '7D: The superior Spider-Man. 3, No escape by Slott, Dan, author. is due in 7 days on Sat 17 Nov',\n",
       " '7D: The stars now unclaimed by Williams, Drew, (Science fiction author), author. is due in 7 days on Sat 17 Nov',\n",
       " '7D: Transcription by Atkinson, Kate, author. is due in 7 days on Sat 17 Nov',\n",
       " '7D: The superior foes of Spider-Man. 2, The crime of the century by Spencer, Nick, author. is due in 7 days on Sat 17 Nov',\n",
       " '7D: Feersum endjinn by Banks, Iain, 1954-2013. is due in 7 days on Sat 17 Nov',\n",
       " '7D: The Superior Spider-Man. [Vol. 4], Necessary evil by Slott, Dan, author. is due in 7 days on Sat 17 Nov',\n",
       " '7D: Mecha samurai empire by Liu, Peter Tieryas, 1979- author. is due in 7 days on Sat 17 Nov',\n",
       " '7D: Trickster drift by Robinson, Eden, author. is due in 7 days on Sat 17 Nov',\n",
       " '7D: For a muse of fire by Heilig, Heidi, author. is due in 7 days on Sat 17 Nov',\n",
       " '7D: Basic income for Canadians : the key to a healthier, happier, more secure life for all by Forget, Evelyn L. (Evelyn Louise), 1956-, author. is due in 7 days on Sat 17 Nov',\n",
       " '7D: The Superior Spider-Man. 5, Superior Venom by Slott, Dan, author. is due in 7 days on Sat 17 Nov',\n",
       " '7D: The amazing Spider-Man. Vol. 3, Spider-verse by Slott, Dan, author. is due in 7 days on Sat 17 Nov',\n",
       " '7D: The six-gun tarot by Belcher, R. S., author. is due in 7 days on Sat 17 Nov',\n",
       " '7D: The amazing Spider-man. Vol. 4, Graveyard shift by Slott, Dan, author. is due in 7 days on Sat 17 Nov',\n",
       " '7D: The superior Spider-Man. Vol. 2, A troubled mind by Slott, Dan, author. is due in 7 days on Sat 17 Nov',\n",
       " '7D: Superior Spider-Man team-up. Superiority complex by Yost, Christopher. is due in 7 days on Sat 17 Nov',\n",
       " '11D: Smashing UX design : foundations for designing online user experiences by Allen, Jesmond. is due in 11 days on Wed 21 Nov',\n",
       " '11D: The massacre of mankind : sequel to the war of the worlds ; authorized by the H.G. Wells estate by Baxter, Stephen, author. is due in 11 days on Wed 21 Nov',\n",
       " '11D: Women & power : a manifesto by Beard, Mary, 1955- author. is due in 11 days on Wed 21 Nov',\n",
       " '11D: Communicating the UX vision : 13 anti-patterns that block good ideas by Hodges-Schell, Martina, author. is due in 11 days on Wed 21 Nov',\n",
       " '16D: The house of binding thorns by Bodard, Aliette de, author. is due in 16 days on Mon 26 Nov',\n",
       " '16D: Macaque attack by Powell, Gareth, author. is due in 16 days on Mon 26 Nov',\n",
       " '16D: The Marshall Plan : dawn of the Cold War by Steil, Benn, author. is due in 16 days on Mon 26 Nov',\n",
       " '16D: Outline by Cusk, Rachel, 1967- is due in 16 days on Mon 26 Nov',\n",
       " '16D: The superior foes of Spider-man. Vol. 1, Getting the band back together by Spencer, Nick, author. is due in 16 days on Mon 26 Nov',\n",
       " \"16D: Dragon's code : Anne McCaffrey's Dragonriders of Pern by McCaffrey, Gigi, author. is due in 16 days on Mon 26 Nov\",\n",
       " '16D: The merry spinster : tales of everyday horror by Ortberg, Mallory, author. is due in 16 days on Mon 26 Nov',\n",
       " '16D: Sojourner Truth : a life, a symbol by Painter, Nell Irvin. is due in 16 days on Mon 26 Nov',\n",
       " \"17D: Half spent was the night : a witches' yuletide by McKay, Ami, 1968-, author. is due in 17 days on Tue 27 Nov\",\n",
       " '17D: The ensemble by Gabel, Aja, author. is due in 17 days on Tue 27 Nov',\n",
       " '17D: The woods. Vol. 1, The arrow by Tynion, James, IV, author. is due in 17 days on Tue 27 Nov',\n",
       " '17D: Star Wars : Thrawn by Houser, Jody, author. is due in 17 days on Tue 27 Nov',\n",
       " '17D: Foundryside by Bennett, Robert Jackson, 1984- author. is due in 17 days on Tue 27 Nov',\n",
       " \"17D: She has her mother's laugh : the powers, perversions, and potential of heredity by Zimmer, Carl, 1966- author. is due in 17 days on Tue 27 Nov\",\n",
       " '17D: Billion dollar whale : the man who fooled Wall Street, Hollywood, and the world by Hope, Bradley, author. is due in 17 days on Tue 27 Nov',\n",
       " '20D: The pirate planet by Goss, James, 1974- author. is due in 20 days on Fri 30 Nov',\n",
       " '20D: Star Wars : dark disciple by Golden, Christie, author. is due in 20 days on Fri 30 Nov',\n",
       " '20D: Fire in the valley : the birth and death of the personal computer by Swaine, Michael, 1945- author. is due in 20 days on Fri 30 Nov',\n",
       " '20D: Bitcoin for the befuddled by Barski, Conrad. is due in 20 days on Fri 30 Nov',\n",
       " '20D: We are legion : (we are Bob) by Taylor, Dennis E., author. is due in 20 days on Fri 30 Nov',\n",
       " '20D: Beacon 23 : the complete novel by Howey, Hugh, author. is due in 20 days on Fri 30 Nov']"
      ]
     },
     "execution_count": 13,
     "metadata": {},
     "output_type": "execute_result"
    }
   ],
   "source": [
    "items"
   ]
  },
  {
   "cell_type": "code",
   "execution_count": 14,
   "metadata": {
    "slideshow": {
     "slide_type": "subslide"
    }
   },
   "outputs": [],
   "source": [
    "driver.close()"
   ]
  },
  {
   "cell_type": "markdown",
   "metadata": {
    "slideshow": {
     "slide_type": "slide"
    }
   },
   "source": [
    "* You can look at holds the same way.\n",
    "* No need to run this more than once a day."
   ]
  },
  {
   "cell_type": "markdown",
   "metadata": {
    "slideshow": {
     "slide_type": "subslide"
    }
   },
   "source": [
    "## There are better ways to give money to the library!\n",
    "\n",
    "[Toronto Public Library Foundation](https://tplfoundation.ca)\n"
   ]
  },
  {
   "cell_type": "markdown",
   "metadata": {
    "slideshow": {
     "slide_type": "subslide"
    }
   },
   "source": [
    "## Thank You!\n",
    "\n",
    "Stephen Childs\n",
    "\n",
    "[@sechilds](https://twitter.com/sechilds)\n",
    "\n",
    "[github.com/sechilds](https://github.com/sechilds)\n",
    "\n"
   ]
  }
 ],
 "metadata": {
  "celltoolbar": "Slideshow",
  "kernelspec": {
   "display_name": "Python [conda env:library_scrape]",
   "language": "python",
   "name": "conda-env-library_scrape-py"
  },
  "language_info": {
   "codemirror_mode": {
    "name": "ipython",
    "version": 3
   },
   "file_extension": ".py",
   "mimetype": "text/x-python",
   "name": "python",
   "nbconvert_exporter": "python",
   "pygments_lexer": "ipython3",
   "version": "3.6.7"
  }
 },
 "nbformat": 4,
 "nbformat_minor": 2
}
